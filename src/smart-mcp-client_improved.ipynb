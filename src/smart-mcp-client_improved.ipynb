{
 "cells": [
  {
   "cell_type": "markdown",
   "id": "8ce41e31",
   "metadata": {},
   "source": [
    "# Smart MCP Client with Azure OpenAI and Azure PostgreSQL Flexible server\n",
    "\n",
    "This notebook demonstrates the **Smart Context-Aware MCP Client** that intelligently handles conversation history in PostgreSQL to maximize LLM token savings while ensuring accurate responses using **Azure OpenAI embeddings** with **DiskANN vector indexing**.\n",
    "\n",
    "## 🧠 Smart Features:\n",
    "- **🎯 Context-Aware Matching**: Understands that \"my database\" = \"advworks\" or smilar questions in context\n",
    "- **🔍 Intent Analysis**: Distinguishes schema requests from simple table lists\n",
    "- **⚡ Dynamic Thresholds**: Adjusts similarity requirements (60%/70%/80%) based on context/intent\n",
    "- **💾 PostgreSQL Storage**: Stores all conversations with vector similarity search\n",
    "- **💰 Token Optimization**: Maximum cache hits while preventing false positives\n",
    "- **🧠 Azure OpenAI Embeddings**: Uses `text-embedding-3-small` (1536 dimensions)\n",
    "- **⚡ DiskANN Vector Index**: Ultra-high performance vector similarity search\n",
    "- **📊 Transparent Debugging**: Clear output shows matching logic and decisions\n"
   ]
  },
  {
   "cell_type": "code",
   "execution_count": null,
   "id": "8f65023e",
   "metadata": {},
   "outputs": [],
   "source": [
    "import os\n",
    "import warnings\n",
    "import logging\n",
    "\n",
    "# Set environment variable to suppress google-crc32c warnings\n",
    "os.environ['GOOGLE_CRC32C_IGNORE_IMPORT_ERROR'] = '1'\n",
    "\n",
    "# Suppress warnings before any imports\n",
    "warnings.filterwarnings(\"ignore\", category=ResourceWarning)\n",
    "warnings.filterwarnings(\"ignore\", category=RuntimeWarning)\n",
    "\n",
    "# Remove INFO:httpx from output\n",
    "logging.getLogger(\"httpx\").setLevel(logging.WARNING)\n",
    "print(\"✅ Environment configured successfully\")"
   ]
  },
  {
   "cell_type": "code",
   "execution_count": null,
   "id": "f662e5c5",
   "metadata": {},
   "outputs": [],
   "source": [
    "# Initialize the Smart Context-Aware MCP Client\n",
    "import importlib\n",
    "import smart_mcp_client_improved\n",
    "importlib.reload(smart_mcp_client_improved)\n",
    "\n",
    "from smart_mcp_client_improved import SmartMCPClientImproved\n",
    "\n",
    "# Create smart client with context-aware similarity matching\n",
    "# The 70% threshold is used as base, but dynamic thresholds are applied based on:\n",
    "# - 60% for context-normalized questions (e.g., \"my database\" = \"advworks\")  \n",
    "# - 70% for regular compatible intent questions\n",
    "# - 80% for incompatible intent questions (prevents false matches)\n",
    "# MCP URL is now read from environment variable MCP_URL\n",
    "smart_client = SmartMCPClientImproved(similarity_threshold=0.70)\n",
    "\n",
    "# Initialize the smart client\n",
    "await smart_client.init_chat()"
   ]
  },
  {
   "cell_type": "code",
   "execution_count": null,
   "id": "d617c5c8",
   "metadata": {},
   "outputs": [],
   "source": [
    "# Test 1: Ask a simple question about tables (creates baseline cached response)\n",
    "await smart_client.ask_question(\"What tables are in the advworks database?\")"
   ]
  },
  {
   "cell_type": "code",
   "execution_count": null,
   "id": "79147442",
   "metadata": {},
   "outputs": [],
   "source": [
    "# Test 2: Ask for detailed schema - should NOT match simple table list (different intent)\n",
    "await smart_client.ask_question(\"Show me the schema for 2-3 tables in advwork with column types\")"
   ]
  },
  {
   "cell_type": "code",
   "execution_count": null,
   "id": "73f030d0",
   "metadata": {},
   "outputs": [],
   "source": [
    "# Test 3: Ask similar schema question - should match previous schema response (same intent)\n",
    "await smart_client.ask_question(\"What are the table schemas with column data types in advworks?\")"
   ]
  },
  {
   "cell_type": "code",
   "execution_count": null,
   "id": "7d3a809e",
   "metadata": {},
   "outputs": [],
   "source": [
    "# Test 4: Ask another simple table question - should match first simple response\n",
    "await smart_client.ask_question(\"List all tables in advworks\")"
   ]
  },
  {
   "cell_type": "code",
   "execution_count": null,
   "id": "ed32e655",
   "metadata": {},
   "outputs": [],
   "source": [
    "# Test 5: Test context-aware matching - \"my database\" should match \"advworks database\"\n",
    "await smart_client.ask_question(\"What tables are in my database?\")"
   ]
  },
  {
   "cell_type": "code",
   "execution_count": null,
   "id": "59af2d9e",
   "metadata": {},
   "outputs": [],
   "source": [
    "await smart_client.ask_question(\"How many employees do I have?\")"
   ]
  },
  {
   "cell_type": "code",
   "execution_count": null,
   "id": "fcfcc3c1",
   "metadata": {},
   "outputs": [],
   "source": [
    "await smart_client.ask_question(\"How many employees are hired?\")"
   ]
  },
  {
   "cell_type": "code",
   "execution_count": null,
   "id": "c8196dfc",
   "metadata": {},
   "outputs": [],
   "source": [
    "await smart_client.ask_question(\"What are the curent postgres flex server specs?\")"
   ]
  },
  {
   "cell_type": "markdown",
   "id": "868632ca",
   "metadata": {},
   "source": [
    "## 🗂️ Session Management\n",
    "\n",
    "Manage your conversation sessions:"
   ]
  },
  {
   "cell_type": "code",
   "execution_count": null,
   "id": "9d5af2f5",
   "metadata": {},
   "outputs": [],
   "source": [
    "# Clear current session and start a new one\n",
    "print(\"🧹 Clearing current session...\")\n",
    "await smart_client.clear_chat_history()\n",
    "print(\"✅ New session started\")"
   ]
  },
  {
   "cell_type": "code",
   "execution_count": null,
   "id": "99532bd7",
   "metadata": {},
   "outputs": [],
   "source": [
    "# Test cross-session similarity - should find cached responses from previous sessions\n",
    "await smart_client.ask_question(\"What tables are in my db?\")"
   ]
  },
  {
   "cell_type": "markdown",
   "id": "81aa5487",
   "metadata": {},
   "source": [
    "## 🧽 Cleanup\n",
    "\n",
    "When you're done, properly disconnect from the MCP server:"
   ]
  },
  {
   "cell_type": "code",
   "execution_count": null,
   "id": "b22f7f6c",
   "metadata": {},
   "outputs": [],
   "source": [
    "# Cleanup and disconnect\n",
    "await smart_client.cleanup()"
   ]
  }
 ],
 "metadata": {
  "kernelspec": {
   "display_name": "Python 3",
   "language": "python",
   "name": "python3"
  },
  "language_info": {
   "codemirror_mode": {
    "name": "ipython",
    "version": 3
   },
   "file_extension": ".py",
   "mimetype": "text/x-python",
   "name": "python",
   "nbconvert_exporter": "python",
   "pygments_lexer": "ipython3",
   "version": "3.12.11"
  }
 },
 "nbformat": 4,
 "nbformat_minor": 5
}
